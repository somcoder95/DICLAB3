{
 "cells": [
  {
   "cell_type": "code",
   "execution_count": 1,
   "metadata": {},
   "outputs": [],
   "source": [
    "from nytimesarticle import articleAPI\n",
    "from bs4 import BeautifulSoup\n",
    "import requests\n",
    "api = articleAPI(\"458e6335355c4f2fb83770f41baa4309\")\n",
    "#f=open('nytarticlesday.txt','w')\n",
    "links=[]\n",
    "n=0\n",
    "try:\n",
    "    for a in range(0,20):\n",
    "        articles = api.search(q=\"trump\", begin_date=20180101,page=a)\n",
    "        for i in range(0,len(articles['response']['docs'])):\n",
    "            url = articles['response']['docs'][i]['web_url']\n",
    "            data = requests.get(url)\n",
    "            soup = BeautifulSoup(data.content, 'html.parser')\n",
    "            soup.prettify()\n",
    "            filename='val'+str(n)+'.txt'\n",
    "            f=open(filename,'w')\n",
    "            for j in range((len(soup.find_all('p')))-3):\n",
    "                f.write(soup.find_all('p')[j].get_text())\n",
    "            f.close()\n",
    "            #print(url)\n",
    "            links.append(url)\n",
    "            n+=1\n",
    "    \n",
    "except:\n",
    "    print(\"We got only\",len(links),\" articles for selected period\")"
   ]
  },
  {
   "cell_type": "code",
   "execution_count": 6,
   "metadata": {},
   "outputs": [
    {
     "name": "stdout",
     "output_type": "stream",
     "text": [
      "We got only 30  articles for selected period\n"
     ]
    }
   ],
   "source": [
    "from nytimesarticle import articleAPI\n",
    "from bs4 import BeautifulSoup\n",
    "import requests\n",
    "api = articleAPI(\"458e6335355c4f2fb83770f41baa4309\")\n",
    "#f=open('nytarticlesday.txt','w')\n",
    "links=[]\n",
    "n=0\n",
    "try:\n",
    "    for a in range(0,20):\n",
    "        articles = api.search(q=\"basketball\", begin_date=20180201,page=a)\n",
    "        for i in range(0,len(articles['response']['docs'])):\n",
    "            url = articles['response']['docs'][i]['web_url']\n",
    "            data = requests.get(url)\n",
    "            soup = BeautifulSoup(data.content, 'html.parser')\n",
    "            soup.prettify()\n",
    "            filename='NBA'+str(n)+'.txt'\n",
    "            f=open(filename,'w')\n",
    "            for j in range((len(soup.find_all('p')))-3):\n",
    "                f.write(soup.find_all('p')[j].get_text())\n",
    "            f.close()\n",
    "            #print(url)\n",
    "            links.append(url)\n",
    "            n+=1\n",
    "    \n",
    "except:\n",
    "    print(\"We got only\",len(links),\" articles for selected period\")"
   ]
  },
  {
   "cell_type": "code",
   "execution_count": 8,
   "metadata": {},
   "outputs": [
    {
     "name": "stdout",
     "output_type": "stream",
     "text": [
      "We got only 23  articles for selected period\n"
     ]
    }
   ],
   "source": [
    "from nytimesarticle import articleAPI\n",
    "from bs4 import BeautifulSoup\n",
    "import requests\n",
    "api = articleAPI(\"458e6335355c4f2fb83770f41baa4309\")\n",
    "#f=open('nytarticlesday.txt','w')\n",
    "links=[]\n",
    "n=0\n",
    "try:\n",
    "    for a in range(0,20):\n",
    "        articles = api.search(q=\"baseball\", begin_date=20180201,page=a)\n",
    "        for i in range(0,len(articles['response']['docs'])):\n",
    "            url = articles['response']['docs'][i]['web_url']\n",
    "            data = requests.get(url)\n",
    "            soup = BeautifulSoup(data.content, 'html.parser')\n",
    "            soup.prettify()\n",
    "            filename='baseball'+str(n)+'.txt'\n",
    "            f=open(filename,'w')\n",
    "            for j in range((len(soup.find_all('p')))-3):\n",
    "                f.write(soup.find_all('p')[j].get_text())\n",
    "            f.close()\n",
    "            #print(url)\n",
    "            links.append(url)\n",
    "            n+=1\n",
    "    \n",
    "except:\n",
    "    print(\"We got only\",len(links),\" articles for selected period\")"
   ]
  }
 ],
 "metadata": {
  "kernelspec": {
   "display_name": "Python 3",
   "language": "python",
   "name": "python3"
  },
  "language_info": {
   "codemirror_mode": {
    "name": "ipython",
    "version": 3
   },
   "file_extension": ".py",
   "mimetype": "text/x-python",
   "name": "python",
   "nbconvert_exporter": "python",
   "pygments_lexer": "ipython3",
   "version": "3.5.5"
  }
 },
 "nbformat": 4,
 "nbformat_minor": 2
}
